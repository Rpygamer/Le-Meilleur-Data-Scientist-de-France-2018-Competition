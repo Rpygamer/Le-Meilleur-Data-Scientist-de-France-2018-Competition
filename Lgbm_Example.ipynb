{
 "cells": [
  {
   "cell_type": "code",
   "execution_count": 1,
   "metadata": {
    "ExecuteTime": {
     "end_time": "2018-04-23T07:20:41.047985Z",
     "start_time": "2018-04-23T07:20:40.392470Z"
    },
    "collapsed": true
   },
   "outputs": [],
   "source": [
    "import pandas as pd\n",
    "import time\n",
    "import numpy as np\n",
    "from sklearn.model_selection import train_test_split\n",
    "import lightgbm as lgb\n",
    "import gc\n",
    "import matplotlib.pyplot as plt\n",
    "import os"
   ]
  },
  {
   "cell_type": "code",
   "execution_count": 2,
   "metadata": {
    "ExecuteTime": {
     "end_time": "2018-04-23T07:20:41.747316Z",
     "start_time": "2018-04-23T07:20:41.576653Z"
    },
    "collapsed": true
   },
   "outputs": [],
   "source": [
    "def do_count( df, group_cols, agg_name, agg_type='uint32', show_max=False, show_agg=True ):\n",
    "    if show_agg:\n",
    "        print( \"Aggregating by \", group_cols , '...' )\n",
    "    gp = df[group_cols][group_cols].groupby(group_cols).size().rename(agg_name).to_frame().reset_index()\n",
    "    df = df.merge(gp, on=group_cols, how='left')\n",
    "    del gp\n",
    "    if show_max:\n",
    "        print( agg_name + \" max value = \", df[agg_name].max() )\n",
    "    df[agg_name] = df[agg_name].astype(agg_type)\n",
    "    gc.collect()\n",
    "    return( df )\n",
    "\n",
    "def do_countuniq( df, group_cols, counted, agg_name, agg_type='uint32', show_max=False, show_agg=True ):\n",
    "    if show_agg:\n",
    "        print( \"Counting unqiue \", counted, \" by \", group_cols , '...' )\n",
    "    gp = df[group_cols+[counted]].groupby(group_cols)[counted].nunique().reset_index().rename(columns={counted:agg_name})\n",
    "    df = df.merge(gp, on=group_cols, how='left')\n",
    "    del gp\n",
    "    if show_max:\n",
    "        print( agg_name + \" max value = \", df[agg_name].max() )\n",
    "    df[agg_name] = df[agg_name].astype(agg_type)\n",
    "    gc.collect()\n",
    "    return( df )\n",
    "    \n",
    "def do_cumcount( df, group_cols, counted, agg_name, agg_type='uint32', show_max=False, show_agg=True ):\n",
    "    if show_agg:\n",
    "        print( \"Cumulative count by \", group_cols , '...' )\n",
    "    gp = df[group_cols+[counted]].groupby(group_cols)[counted].cumcount()\n",
    "    df[agg_name]=gp.values\n",
    "    del gp\n",
    "    if show_max:\n",
    "        print( agg_name + \" max value = \", df[agg_name].max() )\n",
    "    df[agg_name] = df[agg_name].astype(agg_type)\n",
    "    gc.collect()\n",
    "    return( df )\n",
    "\n",
    "def do_mean( df, group_cols, counted, agg_name, agg_type='float32', show_max=False, show_agg=True ):\n",
    "    if show_agg:\n",
    "        print( \"Calculating mean of \", counted, \" by \", group_cols , '...' )\n",
    "    gp = df[group_cols+[counted]].groupby(group_cols)[counted].mean().reset_index().rename(columns={counted:agg_name})\n",
    "    df = df.merge(gp, on=group_cols, how='left')\n",
    "    del gp\n",
    "    if show_max:\n",
    "        print( agg_name + \" max value = \", df[agg_name].max() )\n",
    "    df[agg_name] = df[agg_name].astype(agg_type)\n",
    "    gc.collect()\n",
    "    return( df )\n",
    "\n",
    "def do_var( df, group_cols, counted, agg_name, agg_type='float32', show_max=False, show_agg=True ):\n",
    "    if show_agg:\n",
    "        print( \"Calculating variance of \", counted, \" by \", group_cols , '...' )\n",
    "    gp = df[group_cols+[counted]].groupby(group_cols)[counted].var().reset_index().rename(columns={counted:agg_name})\n",
    "    df = df.merge(gp, on=group_cols, how='left')\n",
    "    del gp\n",
    "    if show_max:\n",
    "        print( agg_name + \" max value = \", df[agg_name].max() )\n",
    "    df[agg_name] = df[agg_name].astype(agg_type)\n",
    "    gc.collect()\n",
    "    return( df )"
   ]
  },
  {
   "cell_type": "code",
   "execution_count": 3,
   "metadata": {
    "ExecuteTime": {
     "end_time": "2018-04-23T07:20:43.292754Z",
     "start_time": "2018-04-23T07:20:43.245652Z"
    },
    "collapsed": true
   },
   "outputs": [],
   "source": [
    "def lgb_modelfit_nocv(params, dtrain, dvalid, predictors, target='target', objective='binary', metrics='auc',\n",
    "                 feval=None, early_stopping_rounds=20, num_boost_round=3000, verbose_eval=10, categorical_features=None):\n",
    "    lgb_params = {\n",
    "        'boosting_type': 'gbdt',\n",
    "        'objective': objective,\n",
    "        'metric':metrics,\n",
    "        'learning_rate': 0.2,\n",
    "        #'is_unbalance': 'true',  #because training data is unbalance (replaced with scale_pos_weight)\n",
    "        'num_leaves': 31,  # we should let it be smaller than 2^(max_depth)\n",
    "        'max_depth': -1,  # -1 means no limit\n",
    "        'min_child_samples': 20,  # Minimum number of data need in a child(min_data_in_leaf)\n",
    "        'max_bin': 255,  # Number of bucketed bin for feature values\n",
    "        'subsample': 0.6,  # Subsample ratio of the training instance.\n",
    "        'subsample_freq': 0,  # frequence of subsample, <=0 means no enable\n",
    "        'colsample_bytree': 0.3,  # Subsample ratio of columns when constructing each tree.\n",
    "        'min_child_weight': 5,  # Minimum sum of instance weight(hessian) needed in a child(leaf)\n",
    "        'subsample_for_bin': 200000,  # Number of samples for constructing bin\n",
    "        'min_split_gain': 0,  # lambda_l1, lambda_l2 and min_gain_to_split to regularization\n",
    "        'reg_alpha': 0,  # L1 regularization term on weights\n",
    "        'reg_lambda': 0,  # L2 regularization term on weights\n",
    "        'nthread': 10,\n",
    "        'verbose': 0,\n",
    "        'metric':metrics\n",
    "    }\n",
    "\n",
    "    lgb_params.update(params)\n",
    "\n",
    "    print(\"preparing validation datasets\")\n",
    "\n",
    "    xgtrain = lgb.Dataset(dtrain[predictors].values, label=dtrain[target].values,\n",
    "                          feature_name=predictors,\n",
    "                          categorical_feature=categorical_features\n",
    "                          )\n",
    "    xgvalid = lgb.Dataset(dvalid[predictors].values, label=dvalid[target].values,\n",
    "                          feature_name=predictors,\n",
    "                          categorical_feature=categorical_features\n",
    "                          )\n",
    "\n",
    "    evals_results = {}\n",
    "\n",
    "    bst1 = lgb.train(lgb_params, \n",
    "                     xgtrain, \n",
    "                     valid_sets=[xgtrain, xgvalid], \n",
    "                     valid_names=['train','valid'], \n",
    "                     evals_result=evals_results, \n",
    "                     num_boost_round=num_boost_round,\n",
    "                     early_stopping_rounds=early_stopping_rounds,\n",
    "                     verbose_eval=20, \n",
    "                     feval=feval)\n",
    "\n",
    "    print(\"\\nModel Report\")\n",
    "    print(\"bst1.best_iteration: \", bst1.best_iteration)\n",
    "    print(metrics+\":\", evals_results['valid'][metrics][bst1.best_iteration-1])\n",
    "\n",
    "    return (bst1,bst1.best_iteration)\n"
   ]
  },
  {
   "cell_type": "code",
   "execution_count": 4,
   "metadata": {
    "ExecuteTime": {
     "end_time": "2018-04-23T07:25:08.191874Z",
     "start_time": "2018-04-23T07:20:45.029916Z"
    }
   },
   "outputs": [
    {
     "name": "stdout",
     "output_type": "stream",
     "text": [
      "loading train data...\n",
      "loading test data...\n"
     ]
    },
    {
     "data": {
      "text/plain": [
       "14"
      ]
     },
     "execution_count": 4,
     "metadata": {},
     "output_type": "execute_result"
    }
   ],
   "source": [
    "dtypes = {\n",
    "        'ip'            : 'uint32',\n",
    "        'app'           : 'uint16',\n",
    "        'device'        : 'uint16',\n",
    "        'os'            : 'uint16',\n",
    "        'channel'       : 'uint16',\n",
    "        'is_attributed' : 'uint8',\n",
    "        'click_id'      : 'uint32',\n",
    "        }\n",
    "\n",
    "print('loading train data...')\n",
    "train_df = pd.read_csv(\"./train.csv.zip\",compression='zip',parse_dates=['click_time'], dtype=dtypes, usecols=['ip','app','device','os', 'channel', 'click_time', 'is_attributed'])\n",
    "\n",
    "print('loading test data...')\n",
    "\n",
    "test_df = pd.read_csv(\"./test.csv.zip\", compression='zip',parse_dates=['click_time'], dtype=dtypes, usecols=['ip','app','device','os', 'channel', 'click_time', 'click_id'])\n",
    "\n",
    "len_train = len(train_df)\n",
    "train_df=train_df.append(test_df)\n",
    "del test_df\n",
    "gc.collect()"
   ]
  },
  {
   "cell_type": "code",
   "execution_count": 5,
   "metadata": {
    "ExecuteTime": {
     "end_time": "2018-04-23T07:25:08.212372Z",
     "start_time": "2018-04-23T07:25:08.195300Z"
    }
   },
   "outputs": [
    {
     "data": {
      "text/html": [
       "<div>\n",
       "<style scoped>\n",
       "    .dataframe tbody tr th:only-of-type {\n",
       "        vertical-align: middle;\n",
       "    }\n",
       "\n",
       "    .dataframe tbody tr th {\n",
       "        vertical-align: top;\n",
       "    }\n",
       "\n",
       "    .dataframe thead th {\n",
       "        text-align: right;\n",
       "    }\n",
       "</style>\n",
       "<table border=\"1\" class=\"dataframe\">\n",
       "  <thead>\n",
       "    <tr style=\"text-align: right;\">\n",
       "      <th></th>\n",
       "      <th>app</th>\n",
       "      <th>channel</th>\n",
       "      <th>click_id</th>\n",
       "      <th>click_time</th>\n",
       "      <th>device</th>\n",
       "      <th>ip</th>\n",
       "      <th>is_attributed</th>\n",
       "      <th>os</th>\n",
       "    </tr>\n",
       "  </thead>\n",
       "  <tbody>\n",
       "    <tr>\n",
       "      <th>0</th>\n",
       "      <td>3</td>\n",
       "      <td>379</td>\n",
       "      <td>NaN</td>\n",
       "      <td>2017-11-06 14:32:21</td>\n",
       "      <td>1</td>\n",
       "      <td>83230</td>\n",
       "      <td>0.0</td>\n",
       "      <td>13</td>\n",
       "    </tr>\n",
       "    <tr>\n",
       "      <th>1</th>\n",
       "      <td>3</td>\n",
       "      <td>379</td>\n",
       "      <td>NaN</td>\n",
       "      <td>2017-11-06 14:33:34</td>\n",
       "      <td>1</td>\n",
       "      <td>17357</td>\n",
       "      <td>0.0</td>\n",
       "      <td>19</td>\n",
       "    </tr>\n",
       "    <tr>\n",
       "      <th>2</th>\n",
       "      <td>3</td>\n",
       "      <td>379</td>\n",
       "      <td>NaN</td>\n",
       "      <td>2017-11-06 14:34:12</td>\n",
       "      <td>1</td>\n",
       "      <td>35810</td>\n",
       "      <td>0.0</td>\n",
       "      <td>13</td>\n",
       "    </tr>\n",
       "    <tr>\n",
       "      <th>3</th>\n",
       "      <td>14</td>\n",
       "      <td>478</td>\n",
       "      <td>NaN</td>\n",
       "      <td>2017-11-06 14:34:52</td>\n",
       "      <td>1</td>\n",
       "      <td>45745</td>\n",
       "      <td>0.0</td>\n",
       "      <td>13</td>\n",
       "    </tr>\n",
       "    <tr>\n",
       "      <th>4</th>\n",
       "      <td>3</td>\n",
       "      <td>379</td>\n",
       "      <td>NaN</td>\n",
       "      <td>2017-11-06 14:35:08</td>\n",
       "      <td>1</td>\n",
       "      <td>161007</td>\n",
       "      <td>0.0</td>\n",
       "      <td>13</td>\n",
       "    </tr>\n",
       "  </tbody>\n",
       "</table>\n",
       "</div>"
      ],
      "text/plain": [
       "   app  channel  click_id          click_time  device      ip  is_attributed  \\\n",
       "0    3      379       NaN 2017-11-06 14:32:21       1   83230            0.0   \n",
       "1    3      379       NaN 2017-11-06 14:33:34       1   17357            0.0   \n",
       "2    3      379       NaN 2017-11-06 14:34:12       1   35810            0.0   \n",
       "3   14      478       NaN 2017-11-06 14:34:52       1   45745            0.0   \n",
       "4    3      379       NaN 2017-11-06 14:35:08       1  161007            0.0   \n",
       "\n",
       "   os  \n",
       "0  13  \n",
       "1  19  \n",
       "2  13  \n",
       "3  13  \n",
       "4  13  "
      ]
     },
     "execution_count": 5,
     "metadata": {},
     "output_type": "execute_result"
    }
   ],
   "source": [
    "train_df.head()"
   ]
  },
  {
   "cell_type": "markdown",
   "metadata": {},
   "source": [
    "# FE"
   ]
  },
  {
   "cell_type": "code",
   "execution_count": 6,
   "metadata": {
    "ExecuteTime": {
     "end_time": "2018-04-23T08:37:01.653602Z",
     "start_time": "2018-04-23T07:25:08.214326Z"
    }
   },
   "outputs": [
    {
     "name": "stdout",
     "output_type": "stream",
     "text": [
      "Extracting new features...\n",
      "Cumulative count by  ['ip', 'device', 'os', 'app'] ...\n",
      "V_1 max value =  50066\n",
      "Cumulative count by  ['ip', 'device', 'os', 'channel'] ...\n",
      "V_2 max value =  23230\n",
      "Counting unqiue  channel  by  ['app'] ...\n",
      "V_3 max value =  49\n",
      "Counting unqiue  app  by  ['channel'] ...\n",
      "V_4 max value =  305\n",
      "Counting unqiue  os  by  ['ip', 'app', 'day'] ...\n",
      "V_5 max value =  116\n",
      "Counting unqiue  channel  by  ['ip', 'day', 'hour', 'app'] ...\n",
      "V_6 max value =  30\n",
      "Counting unqiue  app  by  ['ip'] ...\n",
      "V_7 max value =  277\n",
      "Counting unqiue  os  by  ['ip', 'app'] ...\n",
      "V_8 max value =  148\n",
      "Counting unqiue  device  by  ['ip'] ...\n",
      "V_9 max value =  551\n",
      "Aggregating by  ['ip', 'day', 'hour'] ...\n",
      "V_10 max value =  44259\n",
      "Aggregating by  ['ip', 'app'] ...\n",
      "V_11 max value =  220743\n",
      "Aggregating by  ['ip', 'app', 'os'] ...\n",
      "V_12 max value =  55159\n",
      "Calculating variance of  channel  by  ['ip', 'day', 'os'] ...\n",
      "V_13 max value =  122512.5\n",
      "Calculating variance of  app  by  ['ip', 'day', 'os'] ...\n",
      "V_14 max value =  278258.0\n"
     ]
    }
   ],
   "source": [
    "print('Extracting new features...')\n",
    "\n",
    "train_df['hour'] = pd.to_datetime(train_df.click_time).dt.hour.astype('uint8');gc.collect()\n",
    "train_df['day'] = pd.to_datetime(train_df.click_time).dt.day.astype('uint8');gc.collect()\n",
    "\n",
    "train_df['click_time'] = (train_df['click_time'].astype(np.int64) // 10 ** 9).astype(np.int32)\n",
    "train_df['nextClick'] = (train_df.groupby(['ip', 'app', 'device', 'os']).click_time.shift(-1) - train_df.click_time).astype(np.float32)\n",
    "train_df.drop(['click_time'],axis=1,inplace=True)\n",
    "train_df = do_cumcount( train_df, ['ip', 'device', 'os','app'], 'channel', 'V_1', show_max=True ); gc.collect()\n",
    "train_df = do_cumcount( train_df, ['ip', 'device', 'os','channel'], 'app', 'V_2', show_max=True ); gc.collect()\n",
    "# to do ip channel count unique\n",
    "train_df = do_countuniq( train_df, ['app'], 'channel', 'V_3', show_max=True ); gc.collect()\n",
    "train_df = do_countuniq( train_df, ['channel'], 'app', 'V_4', show_max=True ); gc.collect()\n",
    "train_df = do_countuniq( train_df, ['ip','app','day'], 'os', 'V_5', 'uint8', show_max=True ); gc.collect()\n",
    "train_df = do_countuniq( train_df, ['ip', 'day','hour','app'], 'channel', 'V_6', 'uint8', show_max=True ); gc.collect()\n",
    "train_df = do_countuniq( train_df, ['ip'], 'app', 'V_7', 'uint8', show_max=True ); gc.collect()\n",
    "train_df = do_countuniq( train_df, ['ip', 'app'], 'os', 'V_8', 'uint8', show_max=True ); gc.collect()\n",
    "train_df = do_countuniq( train_df, ['ip'], 'device', 'V_9', 'uint16', show_max=True ); gc.collect()\n",
    "\n",
    "train_df = do_count( train_df, ['ip', 'day', 'hour'], 'V_10', show_max=True ); gc.collect()\n",
    "train_df = do_count( train_df, ['ip', 'app'], 'V_11', show_max=True ); gc.collect()\n",
    "train_df = do_count( train_df, ['ip', 'app', 'os'], 'V_12', 'uint16', show_max=True ); gc.collect()\n",
    "\n",
    "train_df = do_var( train_df, ['ip', 'day','os'],'channel' , 'V_13', show_max=True ); gc.collect()\n",
    "train_df = do_var( train_df, ['ip', 'day', 'os'], 'app' , 'V_14', show_max=True ); gc.collect()\n",
    "train_df.drop(['ip'],axis=1,inplace=True)"
   ]
  },
  {
   "cell_type": "code",
   "execution_count": null,
   "metadata": {
    "ExecuteTime": {
     "start_time": "2018-04-23T06:17:14.754Z"
    },
    "collapsed": true
   },
   "outputs": [],
   "source": [
    "train_df.head()"
   ]
  },
  {
   "cell_type": "code",
   "execution_count": 7,
   "metadata": {
    "ExecuteTime": {
     "end_time": "2018-04-23T08:37:02.992992Z",
     "start_time": "2018-04-23T08:37:01.656252Z"
    }
   },
   "outputs": [
    {
     "name": "stdout",
     "output_type": "stream",
     "text": [
      "train size:  144903890\n",
      "valid size:  40000000\n",
      "test size :  18790469\n",
      "predictors ['day', 'app', 'channel', 'device', 'V_2', 'V_14', 'V_7', 'hour', 'V_4', 'V_13', 'V_8', 'V_5', 'V_3', 'V_6', 'nextClick', 'V_12', 'V_9', 'V_11', 'V_10', 'V_1', 'os']\n"
     ]
    }
   ],
   "source": [
    "test_df = train_df[len_train:]\n",
    "val_size=40000000\n",
    "val_df = train_df[(len_train-val_size):len_train]\n",
    "train_df = train_df[:(len_train-val_size)]\n",
    "print(\"train size: \", len(train_df))\n",
    "print(\"valid size: \", len(val_df))\n",
    "print(\"test size : \", len(test_df))\n",
    "\n",
    "sub = pd.DataFrame()\n",
    "sub['click_id'] = test_df['click_id'].astype('int')\n",
    "\n",
    "gc.collect()\n",
    "target = 'is_attributed'\n",
    "predictors = list(set(train_df.columns) - set(['is_attributed','click_id'])) \n",
    "categorical = ['app', 'device', 'os', 'channel', 'hour', 'day']\n",
    "print('predictors',predictors)"
   ]
  },
  {
   "cell_type": "code",
   "execution_count": 8,
   "metadata": {
    "ExecuteTime": {
     "end_time": "2018-04-23T11:45:29.896321Z",
     "start_time": "2018-04-23T08:37:02.995338Z"
    }
   },
   "outputs": [
    {
     "name": "stdout",
     "output_type": "stream",
     "text": [
      "Training...\n",
      "preparing validation datasets\n",
      "Train until valid scores didn't improve in 50 rounds.\n",
      "[20]\ttrain's auc: 0.975552\tvalid's auc: 0.969479\n",
      "[40]\ttrain's auc: 0.980731\tvalid's auc: 0.976267\n",
      "[60]\ttrain's auc: 0.982402\tvalid's auc: 0.978309\n",
      "[80]\ttrain's auc: 0.983249\tvalid's auc: 0.979255\n",
      "[100]\ttrain's auc: 0.983837\tvalid's auc: 0.980049\n",
      "[120]\ttrain's auc: 0.984372\tvalid's auc: 0.980637\n",
      "[140]\ttrain's auc: 0.984648\tvalid's auc: 0.980919\n",
      "[160]\ttrain's auc: 0.98488\tvalid's auc: 0.981148\n",
      "[180]\ttrain's auc: 0.985075\tvalid's auc: 0.981367\n",
      "[200]\ttrain's auc: 0.985243\tvalid's auc: 0.981584\n",
      "[220]\ttrain's auc: 0.985379\tvalid's auc: 0.981672\n",
      "[240]\ttrain's auc: 0.985499\tvalid's auc: 0.981777\n",
      "[260]\ttrain's auc: 0.985619\tvalid's auc: 0.981865\n",
      "[280]\ttrain's auc: 0.985711\tvalid's auc: 0.981896\n",
      "[300]\ttrain's auc: 0.9858\tvalid's auc: 0.981908\n",
      "[320]\ttrain's auc: 0.985912\tvalid's auc: 0.982063\n",
      "[340]\ttrain's auc: 0.985988\tvalid's auc: 0.982116\n",
      "[360]\ttrain's auc: 0.986098\tvalid's auc: 0.982224\n",
      "[380]\ttrain's auc: 0.986162\tvalid's auc: 0.982141\n",
      "[400]\ttrain's auc: 0.986234\tvalid's auc: 0.982135\n",
      "Early stopping, best iteration is:\n",
      "[360]\ttrain's auc: 0.986098\tvalid's auc: 0.982224\n",
      "\n",
      "Model Report\n",
      "bst1.best_iteration:  360\n",
      "auc: 0.9822240972346243\n",
      "[11188.794364213943]: model training time\n",
      "Plot feature importances...\n"
     ]
    },
    {
     "data": {
      "image/png": "[encoded data removed]",
      "text/plain": [
       "<matplotlib.figure.Figure at 0x7f96aa256a58>"
      ]
     },
     "metadata": {},
     "output_type": "display_data"
    },
    {
     "name": "stdout",
     "output_type": "stream",
     "text": [
      "Predicting...\n",
      "writing...\n",
      "done...\n"
     ]
    }
   ],
   "source": [
    "print(\"Training...\")\n",
    "start_time = time.time()\n",
    "\n",
    "params = {\n",
    "    'learning_rate': 0.2,\n",
    "    #'is_unbalance': 'true', # replaced with scale_pos_weight argument\n",
    "    'num_leaves': 12,  # 2^max_depth - 1\n",
    "    'max_depth': 5,  # -1 means no limit\n",
    "    'min_child_samples': 100,  # Minimum number of data need in a child(min_data_in_leaf)\n",
    "    'max_bin': 100,  # Number of bucketed bin for feature values\n",
    "    'subsample': 0.95,  # Subsample ratio of the training instance.\n",
    "    'subsample_freq': 1,  # frequence of subsample, <=0 means no enable\n",
    "    'colsample_bytree': 0.7,  # Subsample ratio of columns when constructing each tree.\n",
    "    'min_child_weight': 0,  # Minimum sum of instance weight(hessian) needed in a child(leaf)\n",
    "    'scale_pos_weight':130 # because training data is extremely unbalanced \n",
    "}\n",
    "(bst,best_iteration) = lgb_modelfit_nocv(params, \n",
    "                        train_df, \n",
    "                        val_df, \n",
    "                        predictors, \n",
    "                        target, \n",
    "                        objective='binary', \n",
    "                        metrics='auc',\n",
    "                        early_stopping_rounds=50, \n",
    "                        verbose_eval=True, \n",
    "                        num_boost_round=500, \n",
    "                        categorical_features=categorical)\n",
    "\n",
    "print('[{}]: model training time'.format(time.time() - start_time))\n",
    "del train_df\n",
    "del val_df\n",
    "gc.collect()\n",
    "\n",
    "\n",
    "print('Plot feature importances...')\n",
    "ax = lgb.plot_importance(bst, max_num_features=100)\n",
    "plt.show()\n",
    "\n",
    "print(\"Predicting...\")\n",
    "sub['is_attributed'] = bst.predict(test_df[predictors],num_iteration=best_iteration)\n",
    "\n",
    "print(\"writing...\")\n",
    "sub.to_csv('sub_version_FE.csv',index=False,float_format='%.9f')\n",
    "print(\"done...\")\n"
   ]
  },
  {
   "cell_type": "code",
   "execution_count": null,
   "metadata": {
    "collapsed": true
   },
   "outputs": [],
   "source": [
    "'''Model Report\n",
    "bst1.best_iteration:  360\n",
    "auc: 0.9822240972346243\n",
    "PB 0.9775'''"
   ]
  },
  {
   "cell_type": "code",
   "execution_count": 2,
   "metadata": {
    "ExecuteTime": {
     "end_time": "2018-04-23T14:44:18.655532Z",
     "start_time": "2018-04-23T14:44:18.649590Z"
    }
   },
   "outputs": [
    {
     "data": {
      "text/plain": [
       "0.0046999999999999265"
      ]
     },
     "execution_count": 2,
     "metadata": {},
     "output_type": "execute_result"
    }
   ],
   "source": [
    "0.9822-0.9775"
   ]
  },
  {
   "cell_type": "code",
   "execution_count": null,
   "metadata": {
    "collapsed": true
   },
   "outputs": [],
   "source": []
  }
 ],
 "metadata": {
  "kernelspec": {
   "display_name": "Python 3",
   "language": "python",
   "name": "python3"
  },
  "language_info": {
   "codemirror_mode": {
    "name": "ipython",
    "version": 3
   },
   "file_extension": ".py",
   "mimetype": "text/x-python",
   "name": "python",
   "nbconvert_exporter": "python",
   "pygments_lexer": "ipython3",
   "version": "3.6.1"
  }
 },
 "nbformat": 4,
 "nbformat_minor": 2
}
